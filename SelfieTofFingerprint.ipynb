{
 "cells": [
  {
   "cell_type": "code",
   "execution_count": 1,
   "metadata": {},
   "outputs": [
    {
     "name": "stderr",
     "output_type": "stream",
     "text": [
      "/Users/zoewefers/miniconda3/lib/python3.9/site-packages/tqdm/auto.py:22: TqdmWarning: IProgress not found. Please update jupyter and ipywidgets. See https://ipywidgets.readthedocs.io/en/stable/user_install.html\n",
      "  from .autonotebook import tqdm as notebook_tqdm\n"
     ]
    }
   ],
   "source": [
    "import selfies as sf\n",
    "from rdkit import Chem\n",
    "from rdkit.Chem import AllChem\n",
    "from rdkit.Chem import Draw\n",
    "from rdkit import RDLogger\n",
    "from rdkit.DataStructs.cDataStructs import TanimotoSimilarity\n",
    "from rdkit.Chem.Draw import IPythonConsole\n",
    "import numpy as np\n",
    "import pandas as pd \n",
    "import matplotlib.pyplot as plt\n",
    "from multiprocessing import Pool\n",
    "from functools import partial\n",
    "from torch import nn"
   ]
  },
  {
   "cell_type": "code",
   "execution_count": 3,
   "metadata": {},
   "outputs": [],
   "source": [
    "import myModel"
   ]
  },
  {
   "cell_type": "code",
   "execution_count": 4,
   "metadata": {},
   "outputs": [],
   "source": [
    "train_data = pd.read_csv(\"moses_train.csv\")\n",
    "test_data = pd.read_csv(\"moses_test.csv\")\n",
    "\n",
    "raw_data = pd.concat([train_data, test_data])"
   ]
  },
  {
   "cell_type": "code",
   "execution_count": 5,
   "metadata": {},
   "outputs": [],
   "source": [
    "def fingerprint_from_smile(smile=str()):\n",
    "\n",
    "  mol = Chem.MolFromSmiles(smile)\n",
    "  fp = AllChem.GetMorganFingerprintAsBitVect(mol, 2, nBits=2048) #could 2048 bits be a hyperparam?\n",
    "\n",
    "  return fp"
   ]
  },
  {
   "cell_type": "code",
   "execution_count": 6,
   "metadata": {},
   "outputs": [],
   "source": [
    "def selfies_alphabet(selfies_list=list()):\n",
    "\n",
    "    #  Define selfies Alphabet with padding symbol included \n",
    "    all_selfies_symbols = sf.get_alphabet_from_selfies(selfies_list)\n",
    "    all_selfies_symbols.add('[nop]') # [nop] is the canonical padding symbol supported by the selfies library \n",
    "    selfies_alphabet = list(sorted(all_selfies_symbols))\n",
    "\n",
    "    return selfies_alphabet"
   ]
  },
  {
   "cell_type": "code",
   "execution_count": 7,
   "metadata": {},
   "outputs": [],
   "source": [
    "def tanimotoLoss(output, label):\n",
    "    #specifying the batch size\n",
    "    output = output > 0.5\n",
    "    N_AB = torch.bitwise_and(output, label)\n",
    "    N_A = torch.sum(output)\n",
    "    N_B = torch.sum(label)\n",
    "    coeff = N_AB / (N_A + N_B - N_AB)\n",
    "    loss = 1-coeff\n",
    "    return -loss"
   ]
  },
  {
   "cell_type": "code",
   "execution_count": 8,
   "metadata": {},
   "outputs": [],
   "source": [
    "max_len = max(sf.len_selfies(s) for s in raw_data[\"selfies\"])\n",
    "\n",
    "alphabet = selfies_alphabet(raw_data[\"selfies\"])\n",
    "\n",
    "vocab_stoi = {symbol: idx for idx, symbol in enumerate(alphabet)}\n",
    "\n",
    "vocab_itos = {idx: symbol for symbol, idx in vocab_stoi.items()}"
   ]
  },
  {
   "cell_type": "code",
   "execution_count": 9,
   "metadata": {},
   "outputs": [],
   "source": [
    "alpha_len = len(vocab_stoi)"
   ]
  },
  {
   "cell_type": "code",
   "execution_count": 10,
   "metadata": {},
   "outputs": [],
   "source": [
    "from sklearn.model_selection import train_test_split\n",
    "\n",
    "selfies = list(raw_data[\"selfies\"])\n",
    "smiles = list(raw_data[\"smiles\"])\n",
    "\n",
    "selfies_train, selfies_test, smiles_train, smiles_test = train_test_split(selfies, smiles, test_size=0.33, random_state=42)\n",
    "selfies_train, selfies_val, smiles_train, smiles_val = train_test_split(selfies_train, smiles_train, test_size=0.20, random_state=42)\n",
    "\n",
    "train_data = list(zip(selfies_train, smiles_train))\n",
    "val_data = list(zip(selfies_val, smiles_val))\n",
    "test_data = list(zip(selfies_test, smiles_test))"
   ]
  },
  {
   "cell_type": "code",
   "execution_count": 29,
   "metadata": {},
   "outputs": [
    {
     "name": "stdout",
     "output_type": "stream",
     "text": [
      "1320\n"
     ]
    }
   ],
   "source": [
    "print(str(55*24))"
   ]
  },
  {
   "cell_type": "code",
   "execution_count": 60,
   "metadata": {},
   "outputs": [],
   "source": [
    "import torch\n",
    "from torch.utils.data import DataLoader\n",
    "from rdkit.Chem import DataStructs\n",
    "\n",
    "\n",
    "train_loader = DataLoader(train_data, batch_size=64, shuffle=True)\n",
    "val_loader = DataLoader(val_data, batch_size=64, shuffle=True)\n",
    "test_loader = DataLoader(test_data, batch_size=64, shuffle=True)\n",
    "\n",
    "net = myModel.Net(max_len*alpha_len, 1600, 1800, 2048)\n",
    "\n",
    "#hyperparam\n",
    "optimizer = torch.optim.SGD(net.parameters(), lr=0.001, momentum=0.9)\n"
   ]
  },
  {
   "cell_type": "code",
   "execution_count": 86,
   "metadata": {},
   "outputs": [],
   "source": [
    "from torch.autograd import Variable\n",
    "\n",
    "def train_one_epoch(epoch_index):\n",
    "    running_loss = 0.\n",
    "    last_loss = 0.\n",
    "\n",
    "    for i, sample in enumerate(train_loader):\n",
    "        selfies, smiles = sample\n",
    "        \n",
    "        inputs = sf.batch_selfies_to_flat_hot(selfies, vocab_stoi, pad_to_len=max_len)\n",
    "        inputs = torch.tensor(inputs).float()\n",
    "        \n",
    "        labels = []\n",
    "        for smile in smiles:\n",
    "            fp = fingerprint_from_smile(smile)\n",
    "            fp = fingerprint_from_smile(smile)\n",
    "            fp_arr = np.zeros((0,), dtype=np.int8)\n",
    "            DataStructs.ConvertToNumpyArray(fp,fp_arr)\n",
    "            labels.append(fp_arr)\n",
    "        labels = torch.tensor(labels)\n",
    "        \n",
    "        optimizer.zero_grad()       \n",
    "        outputs = net(inputs)\n",
    "        loss = tanimotoLoss(outputs, labels)\n",
    "        loss = Variable(loss, requires_grad = True)\n",
    "        loss.sum().backward()\n",
    "        optimizer.step()\n",
    "\n",
    "        #reporting performance\n",
    "        running_loss += loss.item()\n",
    "        if i % 1000 == 999:\n",
    "            last_loss = running_loss / 1000 # loss per batch\n",
    "            print('  batch {} loss: {}'.format(i + 1, last_loss))\n",
    "            #tb_x = epoch_index * len(train_loader) + i + 1\n",
    "            running_loss = 0.0\n",
    "    return last_loss\n"
   ]
  },
  {
   "cell_type": "code",
   "execution_count": 87,
   "metadata": {},
   "outputs": [
    {
     "name": "stdout",
     "output_type": "stream",
     "text": [
      "EPOCH 1:\n"
     ]
    },
    {
     "ename": "ValueError",
     "evalue": "only one element tensors can be converted to Python scalars",
     "output_type": "error",
     "traceback": [
      "\u001b[0;31m---------------------------------------------------------------------------\u001b[0m",
      "\u001b[0;31mValueError\u001b[0m                                Traceback (most recent call last)",
      "\u001b[1;32m/Users/zoewefers/Desktop/Waldispuhl Lab/SELFIES Data/SelfieTofFingerprint.ipynb Cell 13'\u001b[0m in \u001b[0;36m<cell line: 6>\u001b[0;34m()\u001b[0m\n\u001b[1;32m      <a href='vscode-notebook-cell:/Users/zoewefers/Desktop/Waldispuhl%20Lab/SELFIES%20Data/SelfieTofFingerprint.ipynb#ch0000020?line=6'>7</a>\u001b[0m \u001b[39mprint\u001b[39m(\u001b[39m'\u001b[39m\u001b[39mEPOCH \u001b[39m\u001b[39m{}\u001b[39;00m\u001b[39m:\u001b[39m\u001b[39m'\u001b[39m\u001b[39m.\u001b[39mformat(epoch \u001b[39m+\u001b[39m \u001b[39m1\u001b[39m))\n\u001b[1;32m      <a href='vscode-notebook-cell:/Users/zoewefers/Desktop/Waldispuhl%20Lab/SELFIES%20Data/SelfieTofFingerprint.ipynb#ch0000020?line=7'>8</a>\u001b[0m net\u001b[39m.\u001b[39mtrain(\u001b[39mTrue\u001b[39;00m)\n\u001b[0;32m----> <a href='vscode-notebook-cell:/Users/zoewefers/Desktop/Waldispuhl%20Lab/SELFIES%20Data/SelfieTofFingerprint.ipynb#ch0000020?line=8'>9</a>\u001b[0m avg_loss \u001b[39m=\u001b[39m train_one_epoch(epoch)\n\u001b[1;32m     <a href='vscode-notebook-cell:/Users/zoewefers/Desktop/Waldispuhl%20Lab/SELFIES%20Data/SelfieTofFingerprint.ipynb#ch0000020?line=10'>11</a>\u001b[0m net\u001b[39m.\u001b[39mtrain(\u001b[39mFalse\u001b[39;00m)\n\u001b[1;32m     <a href='vscode-notebook-cell:/Users/zoewefers/Desktop/Waldispuhl%20Lab/SELFIES%20Data/SelfieTofFingerprint.ipynb#ch0000020?line=12'>13</a>\u001b[0m running_vloss \u001b[39m=\u001b[39m \u001b[39m0.0\u001b[39m\n",
      "\u001b[1;32m/Users/zoewefers/Desktop/Waldispuhl Lab/SELFIES Data/SelfieTofFingerprint.ipynb Cell 12'\u001b[0m in \u001b[0;36mtrain_one_epoch\u001b[0;34m(epoch_index)\u001b[0m\n\u001b[1;32m     <a href='vscode-notebook-cell:/Users/zoewefers/Desktop/Waldispuhl%20Lab/SELFIES%20Data/SelfieTofFingerprint.ipynb#ch0000018?line=26'>27</a>\u001b[0m optimizer\u001b[39m.\u001b[39mstep()\n\u001b[1;32m     <a href='vscode-notebook-cell:/Users/zoewefers/Desktop/Waldispuhl%20Lab/SELFIES%20Data/SelfieTofFingerprint.ipynb#ch0000018?line=28'>29</a>\u001b[0m \u001b[39m#reporting performance\u001b[39;00m\n\u001b[0;32m---> <a href='vscode-notebook-cell:/Users/zoewefers/Desktop/Waldispuhl%20Lab/SELFIES%20Data/SelfieTofFingerprint.ipynb#ch0000018?line=29'>30</a>\u001b[0m running_loss \u001b[39m+\u001b[39m\u001b[39m=\u001b[39m loss\u001b[39m.\u001b[39;49mitem()\n\u001b[1;32m     <a href='vscode-notebook-cell:/Users/zoewefers/Desktop/Waldispuhl%20Lab/SELFIES%20Data/SelfieTofFingerprint.ipynb#ch0000018?line=30'>31</a>\u001b[0m \u001b[39mif\u001b[39;00m i \u001b[39m%\u001b[39m \u001b[39m1000\u001b[39m \u001b[39m==\u001b[39m \u001b[39m999\u001b[39m:\n\u001b[1;32m     <a href='vscode-notebook-cell:/Users/zoewefers/Desktop/Waldispuhl%20Lab/SELFIES%20Data/SelfieTofFingerprint.ipynb#ch0000018?line=31'>32</a>\u001b[0m     last_loss \u001b[39m=\u001b[39m running_loss \u001b[39m/\u001b[39m \u001b[39m1000\u001b[39m \u001b[39m# loss per batch\u001b[39;00m\n",
      "\u001b[0;31mValueError\u001b[0m: only one element tensors can be converted to Python scalars"
     ]
    }
   ],
   "source": [
    "\n",
    "NUM_EPOCHS = 5\n",
    "best_vloss = 1_000_000.\n",
    "\n",
    "epoch_number = 0\n",
    "\n",
    "for epoch in range(NUM_EPOCHS):\n",
    "    print('EPOCH {}:'.format(epoch + 1))\n",
    "    net.train(True)\n",
    "    avg_loss = train_one_epoch(epoch)\n",
    "\n",
    "    net.train(False)\n",
    "    \n",
    "    running_vloss = 0.0\n",
    "    for i, sample in enumerate(val_loader):\n",
    "        inputs, labels = sample\n",
    "        pred_outputs = net(inputs)\n",
    "        tuples = list(zip(pred_outputs, labels))\n",
    "        losses = tanimotoLoss(pred_outputs, labels)\n",
    "        running_vloss +=losses"
   ]
  },
  {
   "cell_type": "code",
   "execution_count": 63,
   "metadata": {},
   "outputs": [
    {
     "ename": "AttributeError",
     "evalue": "'dict' object has no attribute 'count'",
     "output_type": "error",
     "traceback": [
      "\u001b[0;31m---------------------------------------------------------------------------\u001b[0m",
      "\u001b[0;31mRemoteTraceback\u001b[0m                           Traceback (most recent call last)",
      "\u001b[0;31mRemoteTraceback\u001b[0m: \n\"\"\"\nTraceback (most recent call last):\n  File \"/Users/zoewefers/miniconda3/lib/python3.9/multiprocessing/pool.py\", line 125, in worker\n    result = (True, func(*args, **kwds))\n  File \"/Users/zoewefers/miniconda3/lib/python3.9/multiprocessing/pool.py\", line 48, in mapstar\n    return list(map(*args))\n  File \"/Users/zoewefers/miniconda3/lib/python3.9/site-packages/selfies/utils/encoding_utils.py\", line 46, in selfies_to_encoding\n    if pad_to_len > len_selfies(selfies):\n  File \"/Users/zoewefers/miniconda3/lib/python3.9/site-packages/selfies/utils/selfies_utils.py\", line 17, in len_selfies\n    return selfies.count(\"[\") + selfies.count(\".\")\nAttributeError: 'dict' object has no attribute 'count'\n\"\"\"",
      "\nThe above exception was the direct cause of the following exception:\n",
      "\u001b[0;31mAttributeError\u001b[0m                            Traceback (most recent call last)",
      "\u001b[1;32m/Users/zoewefers/Desktop/Waldispuhl Lab/SELFIES Data/SelfieTofFingerprint.ipynb Cell 14'\u001b[0m in \u001b[0;36m<cell line: 2>\u001b[0;34m()\u001b[0m\n\u001b[1;32m      <a href='vscode-notebook-cell:/Users/zoewefers/Desktop/Waldispuhl%20Lab/SELFIES%20Data/SelfieTofFingerprint.ipynb#ch0000008?line=0'>1</a>\u001b[0m pool\u001b[39m=\u001b[39mPool(\u001b[39m3\u001b[39m)\n\u001b[0;32m----> <a href='vscode-notebook-cell:/Users/zoewefers/Desktop/Waldispuhl%20Lab/SELFIES%20Data/SelfieTofFingerprint.ipynb#ch0000008?line=1'>2</a>\u001b[0m processed_data \u001b[39m=\u001b[39m pool\u001b[39m.\u001b[39;49mmap(partial(sf\u001b[39m.\u001b[39;49mselfies_to_encoding, vocab_stoi, pad_to_len\u001b[39m=\u001b[39;49mmax_len),selfies)\n\u001b[1;32m      <a href='vscode-notebook-cell:/Users/zoewefers/Desktop/Waldispuhl%20Lab/SELFIES%20Data/SelfieTofFingerprint.ipynb#ch0000008?line=2'>3</a>\u001b[0m pool\u001b[39m.\u001b[39mclose()\n\u001b[1;32m      <a href='vscode-notebook-cell:/Users/zoewefers/Desktop/Waldispuhl%20Lab/SELFIES%20Data/SelfieTofFingerprint.ipynb#ch0000008?line=3'>4</a>\u001b[0m pool\u001b[39m.\u001b[39mjoin()\n",
      "File \u001b[0;32m~/miniconda3/lib/python3.9/multiprocessing/pool.py:364\u001b[0m, in \u001b[0;36mPool.map\u001b[0;34m(self, func, iterable, chunksize)\u001b[0m\n\u001b[1;32m    <a href='file:///Users/zoewefers/miniconda3/lib/python3.9/multiprocessing/pool.py?line=358'>359</a>\u001b[0m \u001b[39mdef\u001b[39;00m \u001b[39mmap\u001b[39m(\u001b[39mself\u001b[39m, func, iterable, chunksize\u001b[39m=\u001b[39m\u001b[39mNone\u001b[39;00m):\n\u001b[1;32m    <a href='file:///Users/zoewefers/miniconda3/lib/python3.9/multiprocessing/pool.py?line=359'>360</a>\u001b[0m     \u001b[39m'''\u001b[39;00m\n\u001b[1;32m    <a href='file:///Users/zoewefers/miniconda3/lib/python3.9/multiprocessing/pool.py?line=360'>361</a>\u001b[0m \u001b[39m    Apply `func` to each element in `iterable`, collecting the results\u001b[39;00m\n\u001b[1;32m    <a href='file:///Users/zoewefers/miniconda3/lib/python3.9/multiprocessing/pool.py?line=361'>362</a>\u001b[0m \u001b[39m    in a list that is returned.\u001b[39;00m\n\u001b[1;32m    <a href='file:///Users/zoewefers/miniconda3/lib/python3.9/multiprocessing/pool.py?line=362'>363</a>\u001b[0m \u001b[39m    '''\u001b[39;00m\n\u001b[0;32m--> <a href='file:///Users/zoewefers/miniconda3/lib/python3.9/multiprocessing/pool.py?line=363'>364</a>\u001b[0m     \u001b[39mreturn\u001b[39;00m \u001b[39mself\u001b[39;49m\u001b[39m.\u001b[39;49m_map_async(func, iterable, mapstar, chunksize)\u001b[39m.\u001b[39;49mget()\n",
      "File \u001b[0;32m~/miniconda3/lib/python3.9/multiprocessing/pool.py:771\u001b[0m, in \u001b[0;36mApplyResult.get\u001b[0;34m(self, timeout)\u001b[0m\n\u001b[1;32m    <a href='file:///Users/zoewefers/miniconda3/lib/python3.9/multiprocessing/pool.py?line=768'>769</a>\u001b[0m     \u001b[39mreturn\u001b[39;00m \u001b[39mself\u001b[39m\u001b[39m.\u001b[39m_value\n\u001b[1;32m    <a href='file:///Users/zoewefers/miniconda3/lib/python3.9/multiprocessing/pool.py?line=769'>770</a>\u001b[0m \u001b[39melse\u001b[39;00m:\n\u001b[0;32m--> <a href='file:///Users/zoewefers/miniconda3/lib/python3.9/multiprocessing/pool.py?line=770'>771</a>\u001b[0m     \u001b[39mraise\u001b[39;00m \u001b[39mself\u001b[39m\u001b[39m.\u001b[39m_value\n",
      "\u001b[0;31mAttributeError\u001b[0m: 'dict' object has no attribute 'count'"
     ]
    }
   ],
   "source": [
    "pool=Pool(3)\n",
    "processed_data = pool.map(partial(sf.selfies_to_encoding, vocab_stoi, pad_to_len=max_len),selfies)\n",
    "pool.close()\n",
    "pool.join()"
   ]
  }
 ],
 "metadata": {
  "interpreter": {
   "hash": "390fbcb932543dc56d0a09bd8f8ddfc06ed8c4af07a071e430c5e89a6d9ad5ed"
  },
  "kernelspec": {
   "display_name": "Python 3.9.7 ('base')",
   "language": "python",
   "name": "python3"
  },
  "language_info": {
   "codemirror_mode": {
    "name": "ipython",
    "version": 3
   },
   "file_extension": ".py",
   "mimetype": "text/x-python",
   "name": "python",
   "nbconvert_exporter": "python",
   "pygments_lexer": "ipython3",
   "version": "3.9.12"
  },
  "orig_nbformat": 4
 },
 "nbformat": 4,
 "nbformat_minor": 2
}
